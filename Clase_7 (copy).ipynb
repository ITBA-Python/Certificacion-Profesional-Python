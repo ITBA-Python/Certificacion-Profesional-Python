{
  "cells": [
    {
      "cell_type": "markdown",
      "metadata": {
        "id": "view-in-github",
        "colab_type": "text"
      },
      "source": [
        "<a href=\"https://colab.research.google.com/github/ITBA-Python/Certificacion-Profesional-Python/blob/main/Clase_7.ipynb\" target=\"_parent\"><img src=\"https://colab.research.google.com/assets/colab-badge.svg\" alt=\"Open In Colab\"/></a>"
      ]
    },
    {
      "cell_type": "markdown",
      "metadata": {
        "id": "UShQ7MbxF39r"
      },
      "source": [
        "<img src=\"https://raw.githubusercontent.com/ITBA-Python/Certificacion-Profesional-Python/main/assets/clase2/Headers%20c%C3%A1talogo_Mesa%20de%20trabajo%201%20copia%2044.jpg\" width=\"800\">\n",
        "\n",
        "\n",
        "\n",
        "# Certificación profesional de Python\n",
        "\n",
        "# Clase 7\n",
        "\n",
        "El objetivo de la clase es seguir sumando experiencia de trabajo con programación aprendiendo los siguientes temas.\n",
        "\n",
        "*   APIs y formato JSON\n",
        "*   Programación Orientada a Objetos\n",
        "\n",
        "La clase incluye teoría y práctica sobre cada tema aprendido.\n",
        "\n",
        "<img src=\"https://raw.githubusercontent.com/ITBA-Python/Certificacion-Profesional-Python/main/assets/clase2/LOGOTIPO_sin_fondo_positivo_sin_bajada.png\" width=\"400\">\n",
        "\n"
      ]
    },
    {
      "cell_type": "markdown",
      "metadata": {
        "id": "IOV0vIY_qvcC"
      },
      "source": [
        "# APIs y formato JSON"
      ]
    },
    {
      "cell_type": "markdown",
      "metadata": {
        "id": "rp9HfbI4qvcC"
      },
      "source": [
        "Comenzaremos viendo qué es una API, cómo se aplican en el ámbito de los servicios web y cómo se estructuran los datos que intercambiamos, igual que vimos en clases anteriores con XML.\n"
      ]
    },
    {
      "cell_type": "markdown",
      "metadata": {
        "id": "zBuCMAH8qvcC"
      },
      "source": [
        "## APIs web - APIs REST"
      ]
    },
    {
      "cell_type": "markdown",
      "metadata": {
        "id": "bigoGAj9qvcC"
      },
      "source": [
        "Una API es una interfaz de programación de aplicaciones. Es la forma que tiene un componente de software de exponer una interfaz (en la forma de un conjunto de funciones, subrutinas, procedimientos o protocolos) para ser utilizado por otro componente de software y que puedan conectarse y comunicarse. En otras palabras, una API permite interactuar con una computadora o sistema para obtener datos o ejecutar operaciones. \n",
        "\n",
        "Esta arquitectura sigue también el modelo de cliente-servidor. La aplicación o servicio que realiza el acceso o solicitud de datos es el cliente, mientras que la computadora o servicio que posee los datos o recursos es el servidor."
      ]
    },
    {
      "cell_type": "markdown",
      "metadata": {
        "id": "wWyGG-Vx7p6r"
      },
      "source": [
        "### RESTful\n",
        "\n",
        "Por otro lado, REST es simplemente un conjunto de límites de arquitectura, un estilo de como implementar la arquitectura de la comunicación entre aplicaciones denominado transferencia de estado representacional, no es un protocolo ni un estándar. Una API REST o RESTful API es una API que está implementada siguiendo los principios de diseño de REST.\n",
        "\n",
        "La transferencia de datos se realiza mediante una representación del recurso, y se efectúa mediante el protocolo HTTP que estudiamos en clases anteriores.\n",
        "\n",
        "Algunos de los criterios de desarrollo más importantes para hacer una API REST son:\n",
        "\n",
        " - Arquitectura ciente-servidor a trvéz de HTTP.\n",
        "\n",
        " - Comunicación <b>sin estado</b>. Esto implica que entre cada request el servidor no almacena ningún dato, y por lo tanto todos los requests son independientes.\n",
        " \n",
        " - Una interfaz uniforme entre todos los recursos, que permite estandarizar los request.\n",
        " \n",
        " - Los recursos se manejan mediante URIs (similares a las URLs pero más genéricas). Cuando hablamos de API suele utilizarse el término <b>endpoint</b> para referirse a los puntos de contacto con los datos, la dirección mediante la cual el cliente puede interactuar con un recurso del servidor típicamente mediante una URI.\n",
        " \n",
        " - Se utilizan los mismos verbos que usa el protocolo HTTP:\n",
        "   - GET: permite obtener los datos de un recurso\n",
        "   - POST: permite crear un nuevo recurso}\n",
        "   - PUT: permite modificar un recurso existente\n",
        "   - DELETE: permite eliminar un recurso\n",
        "\n",
        " \n",
        " - Las transferencias de datos se suelen realizar en formato JSON, de forma similiar a como los servicios web que vimos en clases anteriores usan el formato XML.\n"
      ]
    },
    {
      "cell_type": "markdown",
      "metadata": {
        "id": "EYi2UnsXqvcC"
      },
      "source": [
        "## Formato JSON"
      ]
    },
    {
      "cell_type": "markdown",
      "metadata": {
        "id": "jZt7AwNXqvcD"
      },
      "source": [
        "Si bien XML cumplía su labor, podemos darnos cuenta que tiene mucho texto duplicado debido a las etiquetas. Por eso se desarrolló un formato nuevo para lograr una transferencia de datos estructurados más eficiente, utilizando otro formato de texto que resulte más liviano.\n",
        "\n",
        "El formato JSON (Javascript Object Notation) es simplemente una representación que sigue la forma que tiene el lenguaje Javascript para estructurar datos en objetos. Se puede pensar como un diccionario de Python, con una sintaxis muy similar que utiliza pares clave-valor para representar los datos. Si bien su origen proviende de Javascript, su amplio uso en las APIs hizo que se considere un formato independiente y que pueda trabajarse en cualquier lenguaje de programación, lo cual a su vez facilita el desarrollo de APIs.\n",
        "\n",
        "Veamos ejemplos para entender porque es más eficiente y liviano que XML."
      ]
    },
    {
      "cell_type": "markdown",
      "metadata": {
        "id": "NFRnQKeZ7p6t"
      },
      "source": [
        "Ejemplo de archivo XML: \n",
        "```xml\n",
        "<?xml version=\"1.0\" encoding=\"UTF-8\" ?>\n",
        "<!DOCTYPE Edit_Mensaje SYSTEM \"Edit_Mensaje.dtd\">\n",
        "\n",
        "<Edit_Mensaje>\n",
        "     <Mensaje>\n",
        "          <Remitente>\n",
        "               <Nombre>Nombre del remitente</Nombre>\n",
        "               <Mail> Correo del remitente </Mail>\n",
        "          </Remitente>\n",
        "          <Destinatario>\n",
        "               <Nombre>Nombre del destinatario</Nombre>\n",
        "               <Mail>Correo del destinatario</Mail>\n",
        "          </Destinatario>\n",
        "          <Texto>\n",
        "               <Asunto>\n",
        "                    Este es mi documento con una estructura muy sencilla \n",
        "                    no contiene atributos ni entidades...\n",
        "               </Asunto>\n",
        "               <Parrafo>\n",
        "                    Este es mi documento con una estructura muy sencilla \n",
        "                    no contiene atributos ni entidades...\n",
        "               </Parrafo>\n",
        "          </Texto>\n",
        "     </Mensaje>\n",
        "</Edit_Mensaje>\n",
        "```"
      ]
    },
    {
      "cell_type": "markdown",
      "metadata": {
        "id": "s-KBrD587p6t"
      },
      "source": [
        "Ejemplo con la misma información, pero ahora en formato JSON:\n",
        "```json\n",
        "{\n",
        "    \"edit_mensaje\": {\n",
        "        \"mensaje\": {\n",
        "            \"remitente\": {\n",
        "                \"nombre\": \"Nombre del remitente\",\n",
        "                \"mail\": \"Correo del remitente\"\n",
        "            },\n",
        "            \"destinatario\": {\n",
        "                \"nombre\": \"Nombre del destinatario\",\n",
        "                \"mail\": \"Correo del destinatario\"\n",
        "            },\n",
        "            \"texto\": {\n",
        "                \"asunto\": \"Este es mi documento con una estructura muy sencilla \n",
        "                    no contiene atributos ni entidades...\",\n",
        "                \"parrafo\": \"Este es mi documento con una estructura muy sencilla \n",
        "                    no contiene atributos ni entidades...\"\n",
        "            }\n",
        "        }\n",
        "    }\n",
        "}\n",
        "```"
      ]
    },
    {
      "cell_type": "markdown",
      "metadata": {
        "id": "1J8iERqw7p6t"
      },
      "source": [
        "Es sencillo darse cuenta que debido a esta nueva sintaxis, muy similar a la de un diccionario de Python, la misma información puede almacenarse de forma más ligera. \n",
        "Comprobémoslo con el ejemplo de más arriba:"
      ]
    },
    {
      "cell_type": "code",
      "execution_count": null,
      "metadata": {
        "id": "LR4RYQeY7p6t"
      },
      "outputs": [],
      "source": [
        "import requests\n",
        "\n",
        "# Obtenemos la información del mensaje en formato XML del repositorio del curso\n",
        "xml_file = requests.get(\"https://raw.githubusercontent.com/ITBA-Python/Certificacion-Profesional-Python/main/mensaje.xml\")\n",
        "print(xml_file.text)\n",
        "\n",
        "# Longitud en bytes del archivo\n",
        "print(len(xml_file.content))"
      ]
    },
    {
      "cell_type": "code",
      "execution_count": null,
      "metadata": {
        "id": "IOtnWe-57p6u"
      },
      "outputs": [],
      "source": [
        "# Obtenemos la información del mensaje en formato JSON del repositorio del curso\n",
        "json_file = requests.get(\"https://raw.githubusercontent.com/ITBA-Python/Certificacion-Profesional-Python/main/mensaje.json\")\n",
        "print(json_file.text)\n",
        "\n",
        "# Longitud en bytes del archivo\n",
        "print(len(json_file.content))"
      ]
    },
    {
      "cell_type": "markdown",
      "metadata": {
        "id": "FfnfizmK7p6u"
      },
      "source": [
        "El módulo requests de Python nos facilita el parseo de los responses del server en los casos que la respuesta está en formato JSON. Ya no necesitamos utilizar el módulo de xml para transformar los datos en un diccionario de Python, sino que la conversión se hace directamente y el código es mucho más sencillo."
      ]
    },
    {
      "cell_type": "code",
      "execution_count": null,
      "metadata": {
        "id": "Ae1UExqh7p6u"
      },
      "outputs": [],
      "source": [
        "# Parseamos directamente la respuesta del servidor en formato JSON a un diccionario de Python\n",
        "json_obj = json_file.json()\n",
        "print(json_obj)\n",
        "\n",
        "# Podemos trabajar con este diccionario igual que en clases anteriores\n",
        "mensaje = json_obj[\"edit_mensaje\"][\"mensaje\"]\n",
        "rem = mensaje[\"remitente\"]\n",
        "print(f\"Remitente: {rem['nombre']} - {rem['mail']}\")\n",
        "\n",
        "des = mensaje[\"destinatario\"]\n",
        "print(f\"Destinatario: {des['nombre']} - {des['mail']}\")\n",
        "\n",
        "data = mensaje[\"texto\"]\n",
        "print(f\"Asunto: {data['asunto']}\\nParrafo: {data['parrafo']}\")"
      ]
    },
    {
      "cell_type": "markdown",
      "metadata": {
        "id": "IexDdhdd7p6v"
      },
      "source": [
        "Además de trabajar con los responses del módulo requests, podemos trabajar con el formato JSON en Python de forma independiente con el módulo json."
      ]
    },
    {
      "cell_type": "markdown",
      "metadata": {
        "id": "OOPKDwSL7p6v"
      },
      "source": [
        "### Serialización"
      ]
    },
    {
      "cell_type": "markdown",
      "metadata": {
        "id": "mc4rUKgl7p6v"
      },
      "source": [
        "Cuando hablamos de formatos de texto, la serialización es el proceso de convertir un objeto en su representación en string. Esto suele hacerse ya que el intercambio de información, ya sea en la web o mediante un cable, se hace de forma serializada en strings o bytes. Con el formato JSON pasa exactamente lo mismo. En el código de Python un JSON representa un diccionario, pero para transmitirlo es necesario convertirlo en string.\n",
        "\n",
        "El módulo json nos permite hacer esta tarea muy facilmente."
      ]
    },
    {
      "cell_type": "code",
      "execution_count": null,
      "metadata": {
        "id": "1WIUMI0q7p6v"
      },
      "outputs": [],
      "source": [
        "import json\n",
        "\n",
        "# Ejemplo de objeto diccionario\n",
        "diccionario = {\n",
        "    \"paises\": [\n",
        "        {\"nombre\": \"Argentina\", \"codigo\": \"AR\"}, {\"nombre\": \"Brasil\", \"codigo\": \"BR\"}\n",
        "    ]\n",
        "}\n",
        "print(diccionario)\n",
        "\n",
        "# Serializamos el objeto\n",
        "serializado = json.dumps(diccionario)\n",
        "print(serializado)"
      ]
    },
    {
      "cell_type": "markdown",
      "metadata": {
        "id": "aIqPLenJ7p6v"
      },
      "source": [
        "### Deserealización"
      ]
    },
    {
      "cell_type": "markdown",
      "metadata": {
        "id": "q5-Vqdb_7p6v"
      },
      "source": [
        "La deserealización es el proceso inverso a la serialización. Cuando recibimos un JSON en forma de string debemos deserealizarlo para poder trabajar en nuestro código."
      ]
    },
    {
      "cell_type": "code",
      "execution_count": null,
      "metadata": {
        "id": "lplOlbvU7p6v"
      },
      "outputs": [],
      "source": [
        "# Ejemplo de JSON serializado\n",
        "serial = '{\"paises\": [{\"nombre\": \"Argentina\"},{\"nombre\": \"Brasil\"}]}'\n",
        "\n",
        "# Deserealizamos el string\n",
        "deserial = json.loads(serial)\n",
        "print(deserial)\n",
        "\n",
        "# Podemos trabajar con ese diccionario igual que antes\n",
        "paises = deserial['paises']\n",
        "for p in paises:\n",
        "    print(p[\"nombre\"])"
      ]
    },
    {
      "cell_type": "markdown",
      "metadata": {
        "id": "Pekmldtv7p6v"
      },
      "source": [
        "## Ejercicios"
      ]
    },
    {
      "cell_type": "markdown",
      "source": [
        "### Mini Desafío 1\n"
      ],
      "metadata": {
        "id": "c73E8pbw7-_x"
      }
    },
    {
      "cell_type": "markdown",
      "metadata": {
        "id": "Q2HbJb6MqvcD"
      },
      "source": [
        "Ya aprendimos qué es una API REST y cómo trabajar con el formato JSON. Ahora debemos unir ambos conceptos para trabajar con APIs de forma programática en Python.\n",
        "\n",
        "En el siguiente link hay una lista de APIs públicas de todo tipo de cosas: <a href=\"https://publicapis.dev/\">APIs Públicas</a>"
      ]
    },
    {
      "cell_type": "markdown",
      "metadata": {
        "id": "C4qDgu1Y7p6x"
      },
      "source": [
        "1. Como primer ejercicio vamos a interactuar con una API de perros, que devuelve un JSON con información sobre datos curiosos de perros. <a href=\"https://kinduff.github.io/dog-api/?ref=publicapis.dev\">Documentación</a>"
      ]
    },
    {
      "cell_type": "code",
      "execution_count": null,
      "metadata": {
        "id": "If8IQ7eq7p6x"
      },
      "outputs": [],
      "source": [
        "# API de perros"
      ]
    },
    {
      "cell_type": "markdown",
      "metadata": {
        "id": "WxJi_A_z7p6x"
      },
      "source": [
        "2. Ahora vamos a interactuar con una API que tiene datos significativos y que podemos utilizar para hacer algún tipo de procesamiento. Usaremos una API que nos permite obtener las cotizaciones de varios tipos de dólar en pesos argentinos."
      ]
    },
    {
      "cell_type": "code",
      "execution_count": null,
      "metadata": {
        "id": "8I4679Om7p6x"
      },
      "outputs": [],
      "source": [
        "# API de cotizaciones"
      ]
    },
    {
      "cell_type": "markdown",
      "metadata": {
        "id": "A3Le7PAQtDV_"
      },
      "source": [
        "### Mini Desafío 2\n"
      ]
    },
    {
      "cell_type": "markdown",
      "metadata": {
        "id": "j4COt0KPtMvW"
      },
      "source": [
        "Escribir un programa que utilizando la librería json permita que el usuario ingrese un diccionario siguiendo el formato JSON. Y luego imprima todas las llaves con sus valores siguiendo el formato:\n",
        "```\n",
        "LLAVE -> VALOR \n",
        "```\n",
        "\n",
        "Ejemplo:\n",
        "```\n",
        ">>> {\"llave1\": 12, \"llave2\": \"Hola\", 12:13}\n",
        "\"llave1\" -> 12\n",
        "\"llave2\" -> \"Hola\"\n",
        "12 -> 13\n",
        "```"
      ]
    },
    {
      "cell_type": "code",
      "execution_count": null,
      "metadata": {
        "id": "_xk0yRPot8jO"
      },
      "outputs": [],
      "source": [
        ""
      ]
    },
    {
      "cell_type": "markdown",
      "metadata": {
        "id": "uUxLxwYgukCC"
      },
      "source": [
        "### Mini Desafío 3"
      ]
    },
    {
      "cell_type": "markdown",
      "metadata": {
        "id": "YNX5JiIWumD_"
      },
      "source": [
        "Escribir un programa que permita guardar un diccionario en un archivo en formato JSON."
      ]
    },
    {
      "cell_type": "code",
      "execution_count": null,
      "metadata": {
        "id": "mBnRbk_Vux7H"
      },
      "outputs": [],
      "source": [
        ""
      ]
    },
    {
      "cell_type": "markdown",
      "metadata": {
        "id": "hQDpmq0IuyM1"
      },
      "source": [
        "### Mini desafío 4"
      ]
    },
    {
      "cell_type": "markdown",
      "metadata": {
        "id": "fy1AsOkBuzqV"
      },
      "source": [
        "Escribir un programa que permita leer un diccionario a partir de un archivo en formato json."
      ]
    },
    {
      "cell_type": "code",
      "execution_count": null,
      "metadata": {
        "id": "mTEgQFQWu4ON"
      },
      "outputs": [],
      "source": [
        ""
      ]
    },
    {
      "cell_type": "markdown",
      "metadata": {
        "id": "cZGYhov8rzaI"
      },
      "source": [
        "### Mini Desafío 5\n"
      ]
    },
    {
      "cell_type": "markdown",
      "metadata": {
        "id": "ohKrX82rr4L6"
      },
      "source": [
        "Escribir un programa que te pida ingresar:\n",
        " -   Moneda de origen\n",
        " -   Moneda de destino\n",
        " -   Monto de moneda de origen\n",
        "\n",
        "Y devuelva el monto en la moneda de destino convertido con el tipo del cambio del día. El formato de salida debe ser:\n",
        "```\n",
        "MONTO (MONEDA DE ORIGEN) <-> MONTO CONVERITDO (MONEDA DE DESTINO)\n",
        "```\n",
        "\n",
        "Ejemplos (puede variar según el dia):\n",
        "```\n",
        ">>> EUR\n",
        ">>> USD\n",
        ">>> 100\n",
        "100 (EUR) <-> 100.3 (USD)\n",
        "```\n",
        "```\n",
        ">>> EUR\n",
        ">>> ARS\n",
        ">>> 100\n",
        "100 (EUR) <-> 12796.56 (ARS)\n",
        "```\n",
        "\n",
        "**TIP:** Investigar esta [API](https://rates.hirak.site/?ref=publicapis.dev).\n",
        "\n",
        "**TIP 2:** Los códigos de las monedas los pueden encontrar en este [link](https://es.wikipedia.org/wiki/ISO_4217)."
      ]
    },
    {
      "cell_type": "code",
      "execution_count": null,
      "metadata": {
        "id": "x3FyAzk5s8bF"
      },
      "outputs": [],
      "source": [
        ""
      ]
    },
    {
      "cell_type": "markdown",
      "metadata": {
        "id": "M0Zy884UqvcE"
      },
      "source": [
        "# Programacion orientada a objetos"
      ]
    },
    {
      "cell_type": "markdown",
      "metadata": {
        "id": "O3mRMeQAqvcE"
      },
      "source": [
        "La programación orientada a objetos (POO) es un nuevo paradigma de programación que cambia la forma en que desarrollamos nuestro código. Se basa en el concepto de \"objetos\", que son una representación de un objeto literal del mundo real. Por ejemplo, podemos representar como un objeto un perro, un auto, una persona, etc.\n",
        "\n",
        "Esta idea nos permite modelar un problema real identificando los objetos que están involucrados y así organizar mejor el código separando las funcionalidades y estados de cada objeto en bloques independientes de código. Esto facilita enormemente el diseño del programa, la implementación del código y lograr una mayor modularidad."
      ]
    },
    {
      "cell_type": "markdown",
      "metadata": {
        "id": "RenUEc9h7p6y"
      },
      "source": [
        "## Objetos"
      ]
    },
    {
      "cell_type": "markdown",
      "metadata": {
        "id": "wn1_kVIP7p6y"
      },
      "source": [
        "Los objetos son una representación de objetos del mundo real. Podemos pensarlos como estructuras que encapsulan el estado del objeto y sus funcionalidades básicas. En progamación se suelen denominar atributos y métodos a las variables y funciones que se definen como parte de un objeto.\n",
        "\n",
        "Por ejemplo, si queremos representar un perro como un objeto, podemos definir los atributos nombre, raza, edad; y los métodos ladrar, caminar, alimentar, nombrar."
      ]
    },
    {
      "cell_type": "markdown",
      "metadata": {
        "id": "GWvVVg-k7p6y"
      },
      "source": [
        "## Conceptos básicos"
      ]
    },
    {
      "cell_type": "markdown",
      "metadata": {
        "id": "aABEUeZN7p6y"
      },
      "source": [
        "La POO se basa en diferentes conceptos fundamentales, entre ellos cuatro que son muy importantes para entender las diferencias con el paradigma de programación que venimos usando (programación estructurada):\n",
        "\n",
        "- **Abstracción:** los objetos nos permiten abstraernos de los detalles de implementación de las funcionalidades de ese objeto. Por ejemplo, si tenemos el objeto perro con un método caminar, no nos importa cómo está definida la función para hacer caminar a un perro, simplemente la usamos abstrayéndonos de todo el código que está detrás.\n",
        "\n",
        "- **Encapsulamiento:** de forma similar a la abstracción, el concepto de encapsulamiento se refiere a reunir todas las variables y funcionalidades de una misma entidad como parte del objeto. La diferencia con la abstracción es que el encapsulamiento apunta a la idea de que desde el lado del desarrollador del código del objeto, al estar los métodos y atributos encapsulados podemos iterar y cambiar la forma en que implementamos esas funciones, sin que el usuario del objeto note alguna diferencia en el funcionamiento.\n",
        "\n",
        "- **Herencia:** los objetos en general no están aisalados, sino que tienen relaciones entre sí. Este es un concepto clave de la POO que permite definir en el código estas relaciones entre clases, como por ejemplo Animal y Perro (tienen una relación jerárquica en el sentido que un perro es también un animal, Animal -> Perro).\n",
        "\n",
        "- **Polimorfismo:** este concepto se refiere a que en difentes objetos podemos tener el mismo método (con el mismo nombre), pero que se comporte de forma diferente según a que objeto esté asociado y que el usuario de los objetos pueda usarlos de forma indistinta. Por ejemplo los objetos de tipo perro y auto puede tener el mismo método mover(), que ejecutará funciones totalmente distintas dependiende si se está llamanda desde el objeto auto o el objeto perro.\n",
        "\n",
        "Todos estos conceptos son generales de la POO y se aplican en cualquier lenguaje de programación."
      ]
    },
    {
      "cell_type": "markdown",
      "metadata": {
        "id": "Me2DyMnxqvcF"
      },
      "source": [
        "## Clases y objetos"
      ]
    },
    {
      "cell_type": "markdown",
      "metadata": {
        "id": "5SMXA3aZ7p6y"
      },
      "source": [
        "En Python podemos adoptar este paradigma de programación utilizando clases. Las clases son la forma que tiene Python de modelar objetos.\n",
        "Llevemos a código los ejemplos de objetos que venimos mencionando."
      ]
    },
    {
      "cell_type": "code",
      "execution_count": null,
      "metadata": {
        "id": "ovhWKz5n7p6y"
      },
      "outputs": [],
      "source": [
        "# Clase que reprensta al objeto Perro\n",
        "class Perro:\n",
        "\n",
        "    # Atributos\n",
        "    nombre = \"\"\n",
        "    edad = 0\n",
        "    raza = \"\"\n",
        "    \n",
        "    # Inicializador\n",
        "    def __init__(self, nombre, edad, raza):\n",
        "        self.nombre = nombre\n",
        "        self.edad = edad\n",
        "        self.raza = raza\n",
        "    \n",
        "    # Métodos\n",
        "    def ladrar(self):\n",
        "        print(\"GUAU GUAU\")\n",
        "    \n",
        "    def crecer(self):\n",
        "        self.edad += 1\n",
        "    \n",
        "    def nombrar(self, nombre):\n",
        "        self.nombre = nombre"
      ]
    },
    {
      "cell_type": "markdown",
      "metadata": {
        "id": "nejlnCGm7p6y"
      },
      "source": [
        "Notemos varias cosas de este ejemplo.\n",
        "\n",
        "- En general, las clases suelen nombrase con una mayúscula al principio (es Perro y no perro).\n",
        "\n",
        "- La clase tiene una función especial \\_\\_init\\_\\_() que se utiliza para inicilizar el objeto.\n",
        "\n",
        "- Todos los métodos de instancia reciben siempre un parámetros self."
      ]
    },
    {
      "cell_type": "markdown",
      "metadata": {
        "id": "GPfPcGc07p6y"
      },
      "source": [
        "Si bien venimos hablando todo el tiempo de objetos, en Python un objeto tiene una definición específica. Lo que definimos anteriormente es una <b>CLASE</b>. Puede pensarse como un template de como debe estar estructurado un Perro, que variables contiene y que funciones puedo ejecutar sobre ese Perro.\n",
        "\n",
        "En cambio, un <b>OBJETO</b> es una instancia de una clase. Se refiere a la variable particular que usamos en el código. Se dice que cuando creamos un objeto, estamos instanciando la clase. En el ejemplo del perro, la clase representa a todos los objetos de tipo Perro, y establece que todos los perros tendrán un nombre, una edad y una raza. El objeto en cambio es la instancia en particular de Perro, representa al perro llamado Pelusa, de 5 años y de la raza Caniche.\n",
        "\n",
        "Veamos ejemplos de código."
      ]
    },
    {
      "cell_type": "code",
      "execution_count": null,
      "metadata": {
        "id": "kv3HfPmu7p6y"
      },
      "outputs": [],
      "source": [
        "# Definimos una variable de tipo Perro, una instancia\n",
        "miPerro = Perro(\"Pelusa\", 5, \"caniche\")\n",
        "\n",
        "# Podemos obtener los atributos del objeto usando la notación punto\n",
        "print(f\"Mi perro tiene {miPerro.edad} años.\")\n",
        "print(f\"Mi perro se llama {miPerro.nombre}\")\n",
        "\n",
        "# También podemos usar los métodos de la instancia con la misma notación\n",
        "# Modificamos el nombre de mi perro\n",
        "miPerro.nombrar(\"Juan\")\n",
        "print(f\"Mi perro se llama {miPerro.nombre}\")\n",
        "\n",
        "# Hacemos crecer a mi perro\n",
        "miPerro.crecer()\n",
        "print(f\"Mi perro tiene {miPerro.edad} años.\")"
      ]
    },
    {
      "cell_type": "markdown",
      "metadata": {
        "id": "aLqbsR6g7p6y"
      },
      "source": [
        "### self"
      ]
    },
    {
      "cell_type": "markdown",
      "metadata": {
        "id": "025Wr57q7p6y"
      },
      "source": [
        "Mencionamos en la definición de la clase que todos los métodos reciben el parámetro self, pero cuando llamamos al método nombrar() en el código anterior solamente le pasamos un argumento, el nuevo nombre.\n",
        "\n",
        "Esta es la forma que tiene Python de que al trabajar con objetos, estamos interactuando con las variables y métodos de esa instancia en particular de la clase. Python se encarga automáticamente de agregar como primer parámetros en la llamada a la función una referencia al mismo objeto, de ahí el nombre self. \n",
        "\n",
        "Se puede pensar self como una referencia a mí mismo. Cuando usamos self en la definición de la clase, por ejemplo en el método\n",
        "```python\n",
        "def crecer(self):\n",
        "        self.edad += 1\n",
        "```\n",
        "\n",
        "estamos modificando el atributo edad de la instancia específica de Perro desde la que se está llamando al método, en este caso del objeto miPerro."
      ]
    },
    {
      "cell_type": "markdown",
      "metadata": {
        "id": "CnVLOTYU7p6y"
      },
      "source": [
        "## Ejercicios"
      ]
    },
    {
      "cell_type": "markdown",
      "source": [
        "### Mini Desafío 6\n"
      ],
      "metadata": {
        "id": "5R01CtGZ9UtH"
      }
    },
    {
      "cell_type": "markdown",
      "metadata": {
        "id": "0bA_wcNo7p6y"
      },
      "source": [
        "Escribir una clase `Cuadrado` que reciba el largo del lado y permita obtener el perimetro, el area y permita dibujar el cuadrado en consola.\n",
        "\n",
        "Ejemplos:\n",
        "```python\n",
        ">>> miCuadrado = Cuadrado(1)\n",
        ">>> print(miCuadrado.area)\n",
        "1\n",
        ">>> print(miCuadrado.perimetro)\n",
        "4\n",
        ">>> miCuadrado.imprimir()\n",
        "┌───┐\n",
        "│   │\n",
        "└───┘\n",
        "```\n",
        "```python\n",
        ">>> miCuadrado = Cuadrado(3)\n",
        ">>> print(miCuadrado.area)\n",
        "9\n",
        ">>> print(miCuadrado.perimetro)\n",
        "12\n",
        ">>> miCuadrado.imprimir()\n",
        "┌─────────┐\n",
        "│         │\n",
        "│         │\n",
        "│         │\n",
        "└─────────┘\n",
        "```\n",
        "**TIP:** Copiar los caracteres de los ejemplos."
      ]
    },
    {
      "cell_type": "code",
      "source": [
        ""
      ],
      "metadata": {
        "id": "PHzAasNg9thd"
      },
      "execution_count": null,
      "outputs": []
    },
    {
      "cell_type": "markdown",
      "source": [
        "### Mini Desafío 7"
      ],
      "metadata": {
        "id": "kl0gxdLK_Lkz"
      }
    },
    {
      "cell_type": "markdown",
      "source": [
        "Crear una clase `Alumno` debe recibir los siguientes parámetros de constructor:\n",
        "\n",
        "\n",
        "*   Nombre\n",
        "*   Apellido\n",
        "*   Legajo (Número único que identifica al alumno)\n",
        "\n",
        "La clase tambien debe incluir los siguientes métodos:\n",
        "\n",
        "\n",
        "*   .agregar_nota(nota, peso) - Recibe una nota y el peso de la materia.\n",
        "*   .obtener_promedio_academico() - Promedio ponderado con el peso de cada materia.\n",
        "*   .obtener_promedio_lineal() - Promedio sin ponderar el peso.\n",
        "\n",
        "Ejemplos:\n",
        "```python\n",
        ">>> alumno1 = Alumno('Juana', 'Sanchez', 12345)\n",
        ">>> alumno2 = Alumno('Juan', 'Perez', 12346)\n",
        ">>> # Si no tienen notas debe decir SIN NOTAS\n",
        ">>> alumno1.obtener_promedio_academico()\n",
        "SIN NOTAS\n",
        ">>> # Agregamos una nota a cada uno\n",
        ">>> alumno1.agregar_nota(10, 6)\n",
        ">>> alumno2.agregar_nota(8, 6)\n",
        ">>> # Verificamos que los dos promedios son iguales\n",
        ">>> alumno1.obtener_promedio_academico()\n",
        "Juana Sanchez - Académico - 10\n",
        ">>> alumno2.obtener_promedio_academico()\n",
        "Juan Perez - Académico - 8\n",
        ">>> alumno1.obtener_promedio_lineal()\n",
        "Juana Sanchez - Lineal - 10\n",
        ">>> alumno2.obtener_promedio_lineal()\n",
        "Juan Perez - Lineal - 8\n",
        ">>> # Agregamos una segunda nota\n",
        ">>> alumno1.agregar_nota(9, 3)\n",
        ">>> alumno2.agregar_nota(10, 3)\n",
        ">>> # Verficamos los promedios\n",
        ">>> alumno1.obtener_promedio_academico()\n",
        "Juana Sanchez - Académico - 9.6666\n",
        ">>> alumno2.obtener_promedio_academico()\n",
        "Juan Perez - Académico - 8.6666\n",
        ">>> alumno1.obtener_promedio_lineal()\n",
        "Juana Sanchez - Lineal - 9.5\n",
        ">>> alumno2.obtener_promedio_lineal()\n",
        "Juan Perez - Lineal - 9\n",
        "```\n",
        "\n",
        "\n"
      ],
      "metadata": {
        "id": "b4As15jC_QON"
      }
    },
    {
      "cell_type": "code",
      "source": [
        ""
      ],
      "metadata": {
        "id": "MHDd5p4N_Qwm"
      },
      "execution_count": null,
      "outputs": []
    },
    {
      "cell_type": "markdown",
      "source": [
        "# Ejercicios Integradores\n"
      ],
      "metadata": {
        "id": "svRXqjrXCPWE"
      }
    },
    {
      "cell_type": "markdown",
      "source": [
        "## Ejercicio 1"
      ],
      "metadata": {
        "id": "LJSaokjeC7jK"
      }
    },
    {
      "cell_type": "markdown",
      "source": [
        "Re-escribir el Mini Desafío 5 como una clase que permita mantener el valor de cambio actualizado.\n",
        "\n",
        "La clase la llamaremos `FXConversion` y debe guardar el último tipo de cambio por 30 segundos antes de actualizarlo.\n",
        "\n",
        "Los parametros de inicialización:\n",
        "\n",
        "\n",
        "*   Moneda de origen\n",
        "*   Moneda de destino\n",
        "\n",
        "Métodos:\n",
        "\n",
        "\n",
        "*   .conversion_rate() - Imprime el tipo de cambio.\n",
        "*   .conversion(monto) - Debe convertir el monto de la moneda de origen a la de destino.\n",
        "*   .conversion(monto, reverse=True) - Debe convertir el monto de la moneda de destino a la de origen\n",
        "\n",
        "**TIP**: Poner un print cuando hacen los llamados a la API para saber si estan llamando solo cuando es necesario.\n",
        "\n",
        "**TIP 2**: Pueden importar `from time import sleep` y con la funcion `sleep(segundos)` pueden dormir el programa por los segundos que quieran.\n",
        "\n",
        "Ejemplo:\n",
        "```python\n",
        ">>> gbp2usd = FXConversion(\"GBP\", \"USD\")\n",
        ">>> gbp2usd.conversion_rate()\n",
        "Actualizando el valor de cambio.\n",
        "1 GBP = 1.19 USD\n",
        ">>> gbp2usd.conversion_rate()\n",
        "1 GBP = 1.19 USD\n",
        ">>> gbp2usd.conversion(10)\n",
        "10 GBP = 11.9 USD\n",
        ">>> gbp2usd.conversion(10, reverse=True)\n",
        "10 USD = 8.40 USD\n",
        ">>> sleep(30)\n",
        ">>> gbp2usd.conversion(10)\n",
        "Actualizando el valor de cambio.\n",
        "10 GBP = 11.8 USD\n",
        "```\n",
        "\n",
        "\n"
      ],
      "metadata": {
        "id": "isSaxTBUC-IA"
      }
    },
    {
      "cell_type": "code",
      "source": [
        ""
      ],
      "metadata": {
        "id": "cBK3bEk-CQ0D"
      },
      "execution_count": null,
      "outputs": []
    },
    {
      "cell_type": "markdown",
      "source": [
        "## Ejercicio 2"
      ],
      "metadata": {
        "id": "pDIOuavpC-jn"
      }
    },
    {
      "cell_type": "markdown",
      "source": [
        "Escribir una clase que permita interactuar y mantener un diccionario guardado en un archivo. Todos los cambios deben ser guardados al archivo. \n",
        "\n",
        "La clase debe llamarse `MyDictDB`.\n",
        "\n",
        "Parámetros de inicialización:\n",
        "\n",
        "*   Nombre del archivo - Si existe debe cargar el diccionario, si no existe debe crearlo con un diccionario vacio.\n",
        "\n",
        "Métodos:\n",
        "\n",
        "\n",
        "*   .update_key(key, value) - Actualiza o crea una key dentro del diccionario.\n",
        "*   .delete_key(key) - Elimina una key\n",
        "\n"
      ],
      "metadata": {
        "id": "45oyQFerDA8N"
      }
    },
    {
      "cell_type": "code",
      "source": [
        ""
      ],
      "metadata": {
        "id": "NWkXNgcJDAfM"
      },
      "execution_count": null,
      "outputs": []
    },
    {
      "cell_type": "markdown",
      "source": [
        "## Ejercicio 3"
      ],
      "metadata": {
        "id": "uaNcLL3mDBZH"
      }
    },
    {
      "cell_type": "markdown",
      "source": [
        "Escribir una clase `News` que obtenga los datos de un feed rss visto la clase pasada y guarde las noticias en formato json. \n",
        "\n",
        "La clase debe cumplir lo siguiente:\n",
        "\n",
        "\n",
        "*   Debe detectar noticias duplicadas y unicamente guardar una.\n",
        "*   Cuando se inicializa debe cargar las noticias que ya tiene cargadas.\n",
        "*   Debe calcular las siguientes métricas:\n",
        "    *    Cantidad total de noticias.\n",
        "    *    Cantidad total de noticias por día.\n",
        "    *    Dada una palabra dar la cantidad de noticias que poseen esa palabra. Ejemplo: Cuantas noticias contienen la palabra \"Messi\".\n",
        "*   Debe poseer un método para actualizar y traer las nuevas noticias.\n",
        "*   Debe poseer un método para imprimir todas las noticias.\n",
        "*   Debe poseer un método para imprimir las últimas X noticias.\n",
        "\n"
      ],
      "metadata": {
        "id": "nD9mh3f7DCy-"
      }
    },
    {
      "cell_type": "code",
      "source": [
        ""
      ],
      "metadata": {
        "id": "SI5lrA6aDCZ-"
      },
      "execution_count": null,
      "outputs": []
    }
  ],
  "metadata": {
    "colab": {
      "collapsed_sections": [],
      "name": "Clase 7.ipynb",
      "provenance": [],
      "include_colab_link": true
    },
    "interpreter": {
      "hash": "8a94588eda9d64d9e9a351ab8144e55b1fabf5113b54e67dd26a8c27df0381b3"
    },
    "kernelspec": {
      "display_name": "Python 3.10.4 64-bit",
      "language": "python",
      "name": "python3"
    },
    "language_info": {
      "name": "python",
      "version": "3.10.4"
    }
  },
  "nbformat": 4,
  "nbformat_minor": 0
}