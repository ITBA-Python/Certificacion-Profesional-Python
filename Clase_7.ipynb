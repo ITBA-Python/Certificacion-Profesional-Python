{
  "cells": [
    {
      "cell_type": "markdown",
      "metadata": {
        "colab_type": "text",
        "id": "view-in-github"
      },
      "source": [
        "<a href=\"https://colab.research.google.com/github/ITBA-Python/Certificacion-Profesional-Python/blob/main/Clase_7.ipynb\" target=\"_parent\"><img src=\"https://colab.research.google.com/assets/colab-badge.svg\" alt=\"Open In Colab\"/></a>"
      ]
    },
    {
      "cell_type": "markdown",
      "metadata": {
        "id": "UShQ7MbxF39r"
      },
      "source": [
        "<img src=\"https://raw.githubusercontent.com/ITBA-Python/Certificacion-Profesional-Python/main/assets/clase2/Headers%20c%C3%A1talogo_Mesa%20de%20trabajo%201%20copia%2044.jpg\" width=\"800\">\n",
        "\n",
        "\n",
        "\n",
        "# Certificación profesional de Python\n",
        "\n",
        "# Clase 7\n",
        "\n",
        "El objetivo de la clase es seguir sumando experiencia de trabajo con programación aprendiendo los siguientes temas.\n",
        "\n",
        "*   Programación Orientada a Objetos\n",
        "\n",
        "La clase incluye teoría y práctica sobre cada tema aprendido.\n",
        "\n",
        "<img src=\"https://raw.githubusercontent.com/ITBA-Python/Certificacion-Profesional-Python/main/assets/clase2/LOGOTIPO_sin_fondo_positivo_sin_bajada.png\" width=\"400\">\n",
        "\n"
      ]
    },
    {
      "cell_type": "markdown",
      "metadata": {
        "id": "M0Zy884UqvcE"
      },
      "source": [
        "# Programacion orientada a objetos"
      ]
    },
    {
      "cell_type": "markdown",
      "metadata": {
        "id": "O3mRMeQAqvcE"
      },
      "source": [
        "La programación orientada a objetos (POO) es un nuevo paradigma de programación que cambia la forma en que desarrollamos nuestro código. Se basa en el concepto de \"objetos\", que son una representación de un objeto literal del mundo real. Por ejemplo, podemos representar como un objeto un perro, un auto, una persona, etc.\n",
        "\n",
        "Esta idea nos permite modelar un problema real identificando los objetos que están involucrados y así organizar mejor el código separando las funcionalidades y estados de cada objeto en bloques independientes de código. Esto facilita enormemente el diseño del programa, la implementación del código y lograr una mayor modularidad."
      ]
    },
    {
      "cell_type": "markdown",
      "metadata": {
        "id": "RenUEc9h7p6y"
      },
      "source": [
        "## Objetos"
      ]
    },
    {
      "cell_type": "markdown",
      "metadata": {
        "id": "wn1_kVIP7p6y"
      },
      "source": [
        "Los objetos son una representación de objetos del mundo real. Podemos pensarlos como estructuras que encapsulan el estado del objeto y sus funcionalidades básicas. En progamación se suelen denominar atributos y métodos a las variables y funciones que se definen como parte de un objeto.\n",
        "\n",
        "Por ejemplo, si queremos representar un perro como un objeto, podemos definir los atributos nombre, raza, edad; y los métodos ladrar, caminar, alimentar, nombrar."
      ]
    },
    {
      "cell_type": "markdown",
      "metadata": {
        "id": "Me2DyMnxqvcF"
      },
      "source": [
        "## Clases"
      ]
    },
    {
      "cell_type": "markdown",
      "metadata": {
        "id": "5SMXA3aZ7p6y"
      },
      "source": [
        "En Python podemos adoptar este paradigma de programación utilizando clases. Las clases son la forma que tiene Python de modelar objetos.\n",
        "Llevemos a código los ejemplos de objetos que venimos mencionando."
      ]
    },
    {
      "cell_type": "code",
      "execution_count": null,
      "metadata": {
        "id": "ovhWKz5n7p6y"
      },
      "outputs": [],
      "source": [
        "# Clase que representa al objeto Perro\n",
        "class Perro:\n",
        "\n",
        "    # Atributos\n",
        "    nombre = \"\"\n",
        "    edad = 0\n",
        "    raza = \"\"\n",
        "    \n",
        "    # Inicializador\n",
        "    def __init__(self, nombre, edad, raza):\n",
        "        self.nombre = nombre\n",
        "        self.edad = edad\n",
        "        self.raza = raza\n",
        "    \n",
        "    # Métodos\n",
        "    def ladrar(self):\n",
        "        print(\"GUAU GUAU\")\n",
        "    \n",
        "    def crecer(self):\n",
        "        self.edad += 1\n",
        "    \n",
        "    def nombrar(self, nombre):\n",
        "        self.nombre = nombre"
      ]
    },
    {
      "cell_type": "markdown",
      "metadata": {
        "id": "GPfPcGc07p6y"
      },
      "source": [
        "Si bien venimos hablando todo el tiempo de objetos, en Python un objeto tiene una definición específica. Lo que definimos anteriormente es una <b>CLASE</b>. Puede pensarse como un template de como debe estar estructurado un Perro, que variables contiene y que funciones puedo ejecutar sobre ese Perro.\n",
        "\n",
        "En cambio, un <b>OBJETO</b> es una instancia de una clase. Se refiere a la variable particular que usamos en el código. Se dice que cuando creamos un objeto, estamos instanciando la clase. En el ejemplo del perro, la clase representa a todos los objetos de tipo Perro, y establece que todos los perros tendrán un nombre, una edad y una raza. El objeto en cambio es la instancia en particular de Perro, representa al perro llamado Pelusa, de 5 años y de la raza Caniche."
      ]
    },
    {
      "cell_type": "markdown",
      "metadata": {},
      "source": [
        "En general, las clases suelen nombrarse con una mayúscula al principio (es Perro, no perro)."
      ]
    },
    {
      "cell_type": "markdown",
      "metadata": {
        "id": "aLqbsR6g7p6y"
      },
      "source": [
        "### self"
      ]
    },
    {
      "cell_type": "markdown",
      "metadata": {
        "id": "025Wr57q7p6y"
      },
      "source": [
        "Podemos notar en la definición de la clase que todos los métodos de instancia reciben siempre un parámetro llamado 'self'. Sin embargo, cuando llamamos al método nombrar() en el código anterior solamente le pasamos un argumento, el nuevo nombre.\n",
        "\n",
        "Esta es la forma que tiene Python de que al trabajar con objetos, estamos interactuando con las variables y métodos de esa instancia en particular de la clase. Python se encarga automáticamente de agregar como primer parámetros en la llamada a la función una referencia al mismo objeto, de ahí el nombre self. \n",
        "\n",
        "Se puede pensar self como una referencia a mí mismo. Cuando usamos self en la definición de la clase, por ejemplo en el método\n",
        "```python\n",
        "def crecer(self):\n",
        "        self.edad += 1\n",
        "```\n",
        "\n",
        "estamos modificando el atributo edad de la instancia específica de Perro desde la que se está llamando al método, en este caso del objeto miPerro."
      ]
    },
    {
      "cell_type": "markdown",
      "metadata": {},
      "source": [
        "### Constructor"
      ]
    },
    {
      "cell_type": "markdown",
      "metadata": {},
      "source": [
        "Todas las clases tienen un método especial que define como se debe inicializar un objecto. Este método se llama automáticamente al crear una nueva instancia de la clase. En Python, el constructor de una clase tiene el nombre \\_\\_init\\_\\_() y se utiliza para inicializar los atributos del objeto.\n",
        "El constructor es opcional, si no se define uno Python implementará uno por defecto."
      ]
    },
    {
      "cell_type": "code",
      "execution_count": null,
      "metadata": {},
      "outputs": [],
      "source": [
        "class Persona:\n",
        "    def __init__(self, nombre, edad):\n",
        "        self.nombre = nombre\n",
        "        self.edad = edad\n",
        "\n",
        "# Instanciamos un objeto de la clase Persona, llamando automáticamente al constructor\n",
        "persona = Persona('Juan', 30)"
      ]
    },
    {
      "cell_type": "markdown",
      "metadata": {},
      "source": [
        "### Atributos"
      ]
    },
    {
      "cell_type": "markdown",
      "metadata": {},
      "source": [
        "Un atributo es una variable asociada a un objeto que almancena datos sobre el estado del objeto. En Python, los atributos son las variables que se definen como parte de la clase y pueden tener cualquier tipo. Los atributos se acceden usando la notación de punto."
      ]
    },
    {
      "cell_type": "code",
      "execution_count": null,
      "metadata": {},
      "outputs": [],
      "source": [
        "# Definimos una variable de tipo Perro, una instancia\n",
        "miPerro = Perro(\"Pelusa\", 5, \"caniche\")\n",
        "\n",
        "# Podemos obtener los atributos del objeto usando la notación punto\n",
        "print(f\"Mi perro tiene {miPerro.edad} años.\")\n",
        "print(f\"Mi perro se llama {miPerro.nombre}\")"
      ]
    },
    {
      "cell_type": "markdown",
      "metadata": {},
      "source": [
        "En clases también se pueden definir atributos de clase, que pertenecen a la clase y no a una instancia en particular como los que se mencionaron antes (que llamamos atributos de instancia o atributos de objeto). Se definen dentro de la clase pero por fuera de los métodos, y se comparten entre todos los objetos creados a partir de la clase.\n",
        "Si una instancia modificara el valor de un atributo de clase, Python internamente crea un nuevo atributo específico para esa instancia, manteniendo intacto el valor para el resto de objetos y la clase."
      ]
    },
    {
      "cell_type": "code",
      "execution_count": null,
      "metadata": {},
      "outputs": [],
      "source": [
        "class Circulo:\n",
        "    pi = 3.14159265\n",
        "\n",
        "# Usamos el atributo de clase, llamándolo con el nombre de la clase. Notar que no se define ningún objeto.\n",
        "print('El valor de PI es: ', Circulo.pi)\n",
        "\n",
        "# Tambien podemos usarlo desde los objetos.\n",
        "circulo1 = Circulo()\n",
        "print(circulo1.pi)\n",
        "\n",
        "# Modificamos el atributo de clase en una instancia\n",
        "circulo2 = Circulo()\n",
        "circulo2.pi = 3\n",
        "\n",
        "print(circulo2.pi)\n",
        "print(circulo1.pi)\n",
        "print(Circulo.pi)"
      ]
    },
    {
      "cell_type": "markdown",
      "metadata": {},
      "source": [
        "### Métodos"
      ]
    },
    {
      "cell_type": "markdown",
      "metadata": {},
      "source": [
        "Los métodos son funciones asociadas a un objeto que definen su comportamiento. En Python los métodos son las funciones que se definen como parte de la clase. Los métodos pueden acceder y modificar todos los atributos propios de ese objeto. También se llaman con la notación punto al igual que los atributos."
      ]
    },
    {
      "cell_type": "code",
      "execution_count": null,
      "metadata": {},
      "outputs": [],
      "source": [
        "# También podemos usar los métodos de la instancia con la misma notación\n",
        "# Modificamos el nombre de mi perro\n",
        "miPerro.nombrar(\"Juan\")\n",
        "print(f\"Mi perro se llama {miPerro.nombre}\")\n",
        "\n",
        "# Hacemos crecer a mi perro\n",
        "miPerro.crecer()\n",
        "print(f\"Mi perro tiene {miPerro.edad} años.\")"
      ]
    },
    {
      "cell_type": "markdown",
      "metadata": {},
      "source": [
        "En Python también existen métodos especiales, conocidos como dunder methods (por las siglas en inglés double underscore), que proporcionan una forma de implementar comportamientos específicos en una clase y se llaman automáticamente en determinadas situaciones. Se nombran siempre al comienzo y final con doble guión bajo. El constructor \\_\\_init\\_\\_() es un ejemplo de un método especial.\n",
        "Algunos ejemplos de métodos especiales son:\n",
        "- \\_\\_str\\_\\_(): define como se representa un objeto en forma de string. Se llama automáticamente en un print.\n",
        "- \\_\\_iter\\_\\_(): define como se comporta el objeto cuando se itera sobre él. Se llama automáticamente en un for."
      ]
    },
    {
      "cell_type": "code",
      "execution_count": null,
      "metadata": {},
      "outputs": [],
      "source": [
        "class Gato:\n",
        "    def __init__(self, nombre):\n",
        "        self.nombre = nombre\n",
        "    \n",
        "    def __str__(self):\n",
        "        return f\"Gato con nombre={self.nombre}\"\n",
        "\n",
        "gato1 = Gato('Chispa')\n",
        "print(gato1)"
      ]
    },
    {
      "cell_type": "markdown",
      "metadata": {
        "id": "CnVLOTYU7p6y"
      },
      "source": [
        "## Ejercicios"
      ]
    },
    {
      "cell_type": "markdown",
      "metadata": {
        "id": "5R01CtGZ9UtH"
      },
      "source": [
        "### Mini Desafío 1\n"
      ]
    },
    {
      "cell_type": "markdown",
      "metadata": {
        "id": "0bA_wcNo7p6y"
      },
      "source": [
        "Escribir una clase `Cuadrado` que reciba el largo del lado y permita obtener el perimetro, el area y permita dibujar el cuadrado en consola.\n",
        "\n",
        "Ejemplos:\n",
        "```python\n",
        ">>> miCuadrado = Cuadrado(1)\n",
        ">>> print(miCuadrado.area)\n",
        "1\n",
        ">>> print(miCuadrado.perimetro)\n",
        "4\n",
        ">>> miCuadrado.imprimir()\n",
        "┌───┐\n",
        "│   │\n",
        "└───┘\n",
        "```\n",
        "```python\n",
        ">>> miCuadrado = Cuadrado(3)\n",
        ">>> print(miCuadrado.area)\n",
        "9\n",
        ">>> print(miCuadrado.perimetro)\n",
        "12\n",
        ">>> miCuadrado.imprimir()\n",
        "┌─────────┐\n",
        "│         │\n",
        "│         │\n",
        "│         │\n",
        "└─────────┘\n",
        "```\n",
        "**TIP:** Copiar los caracteres de los ejemplos."
      ]
    },
    {
      "cell_type": "code",
      "execution_count": null,
      "metadata": {
        "id": "PHzAasNg9thd"
      },
      "outputs": [],
      "source": []
    },
    {
      "cell_type": "markdown",
      "metadata": {
        "id": "kl0gxdLK_Lkz"
      },
      "source": [
        "### Mini Desafío 2"
      ]
    },
    {
      "cell_type": "markdown",
      "metadata": {
        "id": "b4As15jC_QON"
      },
      "source": [
        "Crear una clase `Alumno` que debe recibir los siguientes parámetros de constructor:\n",
        "\n",
        "\n",
        "*   Nombre\n",
        "*   Apellido\n",
        "*   Legajo (Número único que identifica al alumno)\n",
        "\n",
        "La clase tambien debe incluir los siguientes métodos:\n",
        "\n",
        "\n",
        "*   .agregar_nota(nota, peso) - Recibe una nota y el peso de la materia.\n",
        "*   .obtener_promedio_academico() - Promedio ponderado con el peso de cada materia.\n",
        "*   .obtener_promedio_lineal() - Promedio sin ponderar el peso.\n",
        "\n",
        "Ejemplos:\n",
        "```python\n",
        ">>> alumno1 = Alumno('Juana', 'Sanchez', 12345)\n",
        ">>> alumno2 = Alumno('Juan', 'Perez', 12346)\n",
        ">>> # Si no tienen notas debe decir SIN NOTAS\n",
        ">>> alumno1.obtener_promedio_academico()\n",
        "SIN NOTAS\n",
        ">>> # Agregamos una nota a cada uno\n",
        ">>> alumno1.agregar_nota(10, 6)\n",
        ">>> alumno2.agregar_nota(8, 6)\n",
        ">>> # Verificamos que los dos promedios son iguales\n",
        ">>> alumno1.obtener_promedio_academico()\n",
        "Juana Sanchez - Académico - 10\n",
        ">>> alumno2.obtener_promedio_academico()\n",
        "Juan Perez - Académico - 8\n",
        ">>> alumno1.obtener_promedio_lineal()\n",
        "Juana Sanchez - Lineal - 10\n",
        ">>> alumno2.obtener_promedio_lineal()\n",
        "Juan Perez - Lineal - 8\n",
        ">>> # Agregamos una segunda nota\n",
        ">>> alumno1.agregar_nota(9, 3)\n",
        ">>> alumno2.agregar_nota(10, 3)\n",
        ">>> # Verficamos los promedios\n",
        ">>> alumno1.obtener_promedio_academico()\n",
        "Juana Sanchez - Académico - 9.6666\n",
        ">>> alumno2.obtener_promedio_academico()\n",
        "Juan Perez - Académico - 8.6666\n",
        ">>> alumno1.obtener_promedio_lineal()\n",
        "Juana Sanchez - Lineal - 9.5\n",
        ">>> alumno2.obtener_promedio_lineal()\n",
        "Juan Perez - Lineal - 9\n",
        "```\n",
        "\n",
        "\n"
      ]
    },
    {
      "cell_type": "code",
      "execution_count": null,
      "metadata": {
        "id": "MHDd5p4N_Qwm"
      },
      "outputs": [],
      "source": []
    },
    {
      "cell_type": "markdown",
      "metadata": {},
      "source": [
        "## Conceptos avanzados"
      ]
    },
    {
      "cell_type": "markdown",
      "metadata": {},
      "source": [
        "La POO se basa en diferentes conceptos fundamentales, entre ellos cuatro que son muy importantes para entender las diferencias con el paradigma de programación que venimos usando (programación estructurada):\n",
        "\n",
        "- **Abstracción:** los objetos nos permiten abstraernos de los detalles de implementación de las funcionalidades de ese objeto. Por ejemplo, si tenemos el objeto perro con un método caminar, no nos importa cómo está definida la función para hacer caminar a un perro, simplemente la usamos abstrayéndonos de todo el código que está detrás.\n",
        "\n",
        "- **Encapsulamiento:** de forma similar a la abstracción, el concepto de encapsulamiento se refiere a reunir todas las variables y funcionalidades de una misma entidad como parte del objeto. La diferencia con la abstracción es que el encapsulamiento apunta a la idea de que desde el lado del desarrollador del código del objeto, al estar los métodos y atributos encapsulados podemos iterar y cambiar la forma en que implementamos esas funciones, sin que el usuario del objeto note alguna diferencia en el funcionamiento.\n",
        "\n",
        "- **Herencia:** los objetos en general no están aisalados, sino que tienen relaciones entre sí. Este es un concepto clave de la POO que permite definir en el código estas relaciones entre clases, como por ejemplo Animal y Perro (tienen una relación jerárquica en el sentido que un perro es también un animal, Animal -> Perro).\n",
        "\n",
        "- **Polimorfismo:** este concepto se refiere a que en difentes objetos podemos tener el mismo método (con el mismo nombre), pero que se comporte de forma diferente según a que objeto esté asociado y que el usuario de los objetos pueda usarlos de forma indistinta. Por ejemplo los objetos de tipo perro y auto puede tener el mismo método mover(), que ejecutará funciones totalmente distintas dependiende si se está llamanda desde el objeto auto o el objeto perro.\n",
        "\n",
        "Todos estos conceptos son generales de la POO y se aplican en cualquier lenguaje de programación."
      ]
    },
    {
      "cell_type": "markdown",
      "metadata": {},
      "source": [
        "### Encapsulamiento"
      ]
    },
    {
      "cell_type": "markdown",
      "metadata": {},
      "source": [
        "El encapsulamiento en la POO se refiere más específicamente a ocultar la implementación interna de una clase y exponer solo la interfaz que sea necesaria. Los datos y métodos internos se mantiene privados y solo se accede a ellos medinte método públicos. Permite dar una protección y control sobre los datos y acciones que se toman sobre un objeto.\n",
        "En Python esto se aplica usando modificadores de acceso para definir los métodos y atributos como públicos, privados o protegidos."
      ]
    },
    {
      "cell_type": "code",
      "execution_count": null,
      "metadata": {},
      "outputs": [],
      "source": [
        "class CuentaBancaria:\n",
        "    def __init__(self, titular, saldo):\n",
        "        self.titular = titular\n",
        "        self.__saldo = saldo  # Atributo privado\n",
        "\n",
        "    @property\n",
        "    def saldo(self):\n",
        "        return self.__saldo\n",
        "    \n",
        "    @saldo.setter\n",
        "    def saldo(self, cantidad):\n",
        "        if cantidad >= 0:\n",
        "            self.__saldo = cantidad\n",
        "        else:\n",
        "            print(\"No se puede tener un saldo negativo.\")\n",
        "    \n",
        "    def __calculate_saldo(self):  # Método privado\n",
        "        return self.__saldo\n",
        "\n",
        "cuenta = CuentaBancaria(\"Juan\", 1000)\n",
        "print(f\"Saldo inicial: {cuenta.saldo}\")\n",
        "cuenta.saldo = 500\n",
        "print(f\"Saldo actualizado: {cuenta.saldo}\")\n",
        "cuenta.saldo = -200  # Intento de saldo negativo"
      ]
    },
    {
      "cell_type": "code",
      "execution_count": null,
      "metadata": {},
      "outputs": [],
      "source": [
        "# Intento acceder al atributo privado\n",
        "print(cuenta.__saldo)"
      ]
    },
    {
      "cell_type": "code",
      "execution_count": null,
      "metadata": {},
      "outputs": [],
      "source": [
        "# Intento acceder al método privado\n",
        "print(cuenta.__calculate_saldo())"
      ]
    },
    {
      "cell_type": "markdown",
      "metadata": {},
      "source": [
        "### Herencia"
      ]
    },
    {
      "cell_type": "markdown",
      "metadata": {},
      "source": [
        "La herencia permite crear nuevas clases basadas en clases existentes, heredando sus métodos y atributos. La clase base se conoce como superclase, clase padre o clase base, mientras que las clases derivadas se conocen como subclases o clases hijas.\n",
        "Una gran ventaja de la herencia es que permite la reutilización de código y la creación de jerarquía de clases. Las subclases tienen a su disposición todos los métodos y atributos de la clase padre, y además pueden agregar nuevos o incluso modificar los del padre."
      ]
    },
    {
      "cell_type": "code",
      "execution_count": null,
      "metadata": {},
      "outputs": [],
      "source": [
        "class Vehiculo:\n",
        "    def __init__(self, marca, modelo):\n",
        "        self.marca = marca\n",
        "        self.modelo = modelo\n",
        "\n",
        "    def conducir(self):\n",
        "        print('El vehiculo está en movimiento')\n",
        "\n",
        "class Auto(Vehiculo):\n",
        "    def __init__(self, marca, modelo, color):\n",
        "        super().__init__(marca, modelo)\n",
        "        self.color = color  # Agregamos un nuevo atributo\n",
        "    \n",
        "    def conducir(self):\n",
        "        print(f\"El auto {self.marca} {self.modelo} de color {self.color} está en movimiento\")\n",
        "\n",
        "class Moto(Vehiculo):\n",
        "    def conducir(self):\n",
        "        print('La moto está en movimiento')\n",
        "\n",
        "auto = Auto(\"Ford\", \"Mustang\", \"Rojo\")\n",
        "moto = Moto(\"Honda\", \"CBR\")\n",
        "\n",
        "auto.conducir()\n",
        "moto.conducir()"
      ]
    },
    {
      "cell_type": "markdown",
      "metadata": {},
      "source": [
        "Un concepto similar a la herencia, y que está relacionado, es el de composición. La composición se utiliza también para definir jerarquías entre clases, pero a diferencia de la herencia donde la subclase ES como la clase padre (recordamos Perro -> Animal, donde un perro ES también un animal), la composición define relaciones del tipo \"tiene un\" o \"está compuesto por\". Por ejemplo, se puede que un Coche tiene un Motor, pero no se puede decir que un Motor es también un Coche.\n",
        "En Python no hay ningún mecanismo especial para definir composiciones, sino que simplemente se logra creando atributos en una clase que son instancias de otras clases."
      ]
    },
    {
      "cell_type": "code",
      "execution_count": null,
      "metadata": {},
      "outputs": [],
      "source": [
        "class Motor:\n",
        "    def __init__(self):\n",
        "        self.potencia = 100\n",
        "\n",
        "class Coche(Vehiculo):\n",
        "    def __init__(self, marca, modelo):\n",
        "        super().__init__(marca, modelo)\n",
        "        self.motor = Motor()  # El coche TIENE un motor"
      ]
    },
    {
      "cell_type": "markdown",
      "metadata": {},
      "source": [
        "### Polimorfismo"
      ]
    },
    {
      "cell_type": "markdown",
      "metadata": {},
      "source": [
        "Mediante la herencia podemos hacer uso del polimorfismo, ya que las clases derivadas pueden ser tratados también como objetos de la clase base. Esto brinda una gran flexibilidad a la hora de desarrollar código ya que podemos escribir código genérico que funcione para diferentes tipos de objetos. En Python se aplica definiendo métodos con el mismo nombre en diferentes clases, o en el caso de la herencia, sobrecargargando (o sobreescribiendo), los métodos heredados de la clase padre."
      ]
    },
    {
      "cell_type": "code",
      "execution_count": null,
      "metadata": {},
      "outputs": [],
      "source": [
        "class Animal:\n",
        "    def __init__(self, nombre, edad):\n",
        "        self.nombre = nombre\n",
        "        self.edad = edad\n",
        "    \n",
        "    def saludar(self):\n",
        "        print(f\"Saludos del animal {self.nombre}\")\n",
        "\n",
        "class Vaca(Animal):\n",
        "    def saludar(self):\n",
        "        print(f\"MUU\")\n",
        "\n",
        "class GatoSiames(Animal):\n",
        "    def saludar(self):\n",
        "        print('MIAU')\n",
        "\n",
        "# Ahora podemos escribir un código genérico para animales y cada uno se comportará de la forma adecuada\n",
        "zoologico = [Vaca('Lola', 10), GatoSiames('Pica', 3)]\n",
        "for animal in zoologico:\n",
        "    animal.saludar()"
      ]
    },
    {
      "cell_type": "markdown",
      "metadata": {},
      "source": [
        "Otro ejemplo de polimorfismo es lo que vimos anteriormente como dunder methods. Estos métodos especiales justamente permiten modificar el comportamiento de la clase en determinadas situaciones, y se resuelven dependiendo del tipo de objetos con el que estamos lidiando.\n",
        "Por ejemplo, para comparar objetos en Python podemos hacerlo de la misma forma que comparamos números, definiendo adecuadamente los métodos especiales de comparación.\n",
        "Este mecanismo se llama sobrecarga de operadores, ya que estamos reemplazando el comportamiento de los operadores de comparación. Se pueden sobrecargar todos los operadores que vimos en Python para números, strings, etc.\n",
        "Algunos operadores:\n",
        "- eq <--> ==\n",
        "- ne <--> !=\n",
        "- gt <--> >\n",
        "- lt <--> <\n",
        "- ge <--> >=\n",
        "- le <--> <=\n",
        "- add <--> +"
      ]
    },
    {
      "cell_type": "code",
      "execution_count": null,
      "metadata": {},
      "outputs": [],
      "source": [
        "class Punto:\n",
        "    def __init__(self, x, y):\n",
        "        self.x = x\n",
        "        self.y = y\n",
        "    \n",
        "    def __str__(self):\n",
        "        return f\"(x={self.x}, y={self.y})\"\n",
        "    \n",
        "    def __eq__(self, other):\n",
        "        return self.x == other.x and self.y == other.y\n",
        "\n",
        "    def __add__(self, other):\n",
        "        return Punto(self.x+other.x, self.y+other.y)\n",
        "\n",
        "p1 = Punto(1, 2)\n",
        "p2 = Punto(1, 5)\n",
        "print(p1 == p2)\n",
        "\n",
        "p3 = p1 + p2\n",
        "print(p3)"
      ]
    },
    {
      "cell_type": "markdown",
      "metadata": {},
      "source": [
        "## Ejercicios"
      ]
    },
    {
      "cell_type": "markdown",
      "metadata": {},
      "source": [
        "### Mini desafío 3"
      ]
    },
    {
      "cell_type": "markdown",
      "metadata": {},
      "source": [
        "Eres parte del equipo de desarrollo de una empresa que quiere organizar la información de sus empleados según sus funciones. En la empresa existen distintos tipos de empleados, como trabajadores generales y directivos, que comparten algunas características (nombre, salario, etc.) pero difieren en responsabilidades.\n",
        "\n",
        "- Crea una estructura de clases para representar a los empleados.\n",
        "- Los trabajadores generales tienen un horario fijo de 9 a 5 y no tienen poder de decisión en las estrategias de la empresa.\n",
        "- Los directivos, en cambio, pueden definir estrategias y horarios flexibles.\n",
        "\n",
        "Tips:\n",
        "- Define una clase base que represente a un empleado genérico, y luego usa herencia para los roles específicos.\n",
        "- Piensa en qué atributos y métodos puede necesitar cada tipo de empleado y en cómo reflejar sus responsabilidades y permisos.\n",
        "- Intenta crear instancias de ambos tipos de empleados y verifica que puedas diferenciar sus comportamientos según su rol en la empresa."
      ]
    },
    {
      "cell_type": "code",
      "execution_count": null,
      "metadata": {},
      "outputs": [],
      "source": []
    },
    {
      "cell_type": "markdown",
      "metadata": {},
      "source": [
        "### Mini desafío 4"
      ]
    },
    {
      "cell_type": "markdown",
      "metadata": {},
      "source": [
        "Estás desarrollando un sistema para un restaurante que ofrece distintos tipos de platos: Entradas, Platos Principales y Postres. Cada tipo de plato tiene una manera particular de prepararse y un tiempo estimado de cocción. La cocina del restaurante quiere saber el tiempo total de preparación para varios platos combinados, como por ejemplo, una comida de entrada, plato principal y postre, o dos platos principales.\n",
        "\n",
        "- Crea una estructura de clases que permita representar distintos tipos de platos en el restaurante, cada uno con su tiempo de preparación específico.\n",
        "- Usa polimorfismo para que todos los platos puedan llamarse con un método común preparar(), pero cada tipo de plato tenga una implementación específica (por ejemplo, un mensaje indicando su preparación particular).\n",
        "- Sobrecarga el operador + para que puedas sumar el tiempo de preparación de varios platos y obtener el tiempo total para una comida completa."
      ]
    },
    {
      "cell_type": "code",
      "execution_count": null,
      "metadata": {},
      "outputs": [],
      "source": []
    },
    {
      "cell_type": "markdown",
      "metadata": {
        "id": "svRXqjrXCPWE"
      },
      "source": [
        "# Ejercicios Integradores\n"
      ]
    },
    {
      "cell_type": "markdown",
      "metadata": {
        "id": "LJSaokjeC7jK"
      },
      "source": [
        "## Ejercicio 1"
      ]
    },
    {
      "cell_type": "markdown",
      "metadata": {
        "id": "isSaxTBUC-IA"
      },
      "source": [
        "Re-escribir el Mini Desafío 5 de la clase anterior como una clase que permita mantener el valor de cambio actualizado.\n",
        "\n",
        "La clase la llamaremos `FXConversion` y debe guardar el último tipo de cambio por 30 segundos antes de actualizarlo.\n",
        "\n",
        "Los parametros de inicialización:\n",
        "\n",
        "\n",
        "*   Moneda de origen\n",
        "*   Moneda de destino\n",
        "\n",
        "Métodos:\n",
        "\n",
        "\n",
        "*   .conversion_rate() - Imprime el tipo de cambio.\n",
        "*   .conversion(monto) - Debe convertir el monto de la moneda de origen a la de destino.\n",
        "*   .conversion(monto, reverse=True) - Debe convertir el monto de la moneda de destino a la de origen\n",
        "\n",
        "**TIP**: Poner un print cuando hacen los llamados a la API para saber si estan llamando solo cuando es necesario.\n",
        "\n",
        "**TIP 2**: Pueden importar `from time import sleep` y con la funcion `sleep(segundos)` pueden dormir el programa por los segundos que quieran.\n",
        "\n",
        "Ejemplo:\n",
        "```python\n",
        ">>> gbp2usd = FXConversion(\"GBP\", \"USD\")\n",
        ">>> gbp2usd.conversion_rate()\n",
        "Actualizando el valor de cambio.\n",
        "1 GBP = 1.19 USD\n",
        ">>> gbp2usd.conversion_rate()\n",
        "1 GBP = 1.19 USD\n",
        ">>> gbp2usd.conversion(10)\n",
        "10 GBP = 11.9 USD\n",
        ">>> gbp2usd.conversion(10, reverse=True)\n",
        "10 USD = 8.40 USD\n",
        ">>> sleep(30)\n",
        ">>> gbp2usd.conversion(10)\n",
        "Actualizando el valor de cambio.\n",
        "10 GBP = 11.8 USD\n",
        "```\n",
        "\n",
        "\n"
      ]
    },
    {
      "cell_type": "code",
      "execution_count": null,
      "metadata": {
        "id": "cBK3bEk-CQ0D"
      },
      "outputs": [],
      "source": []
    },
    {
      "cell_type": "markdown",
      "metadata": {
        "id": "pDIOuavpC-jn"
      },
      "source": [
        "## Ejercicio 2"
      ]
    },
    {
      "cell_type": "markdown",
      "metadata": {
        "id": "45oyQFerDA8N"
      },
      "source": [
        "Escribir una clase que permita interactuar y mantener un diccionario guardado en un archivo. Todos los cambios deben ser guardados al archivo. \n",
        "\n",
        "La clase debe llamarse `MyDictDB`.\n",
        "\n",
        "Parámetros de inicialización:\n",
        "\n",
        "*   Nombre del archivo - Si existe debe cargar el diccionario, si no existe debe crearlo con un diccionario vacio.\n",
        "\n",
        "Métodos:\n",
        "\n",
        "\n",
        "*   .update_key(key, value) - Actualiza o crea una key dentro del diccionario.\n",
        "*   .delete_key(key) - Elimina una key\n",
        "\n"
      ]
    },
    {
      "cell_type": "code",
      "execution_count": null,
      "metadata": {
        "id": "NWkXNgcJDAfM"
      },
      "outputs": [],
      "source": []
    },
    {
      "cell_type": "markdown",
      "metadata": {
        "id": "uaNcLL3mDBZH"
      },
      "source": [
        "## Ejercicio 3"
      ]
    },
    {
      "cell_type": "markdown",
      "metadata": {
        "id": "nD9mh3f7DCy-"
      },
      "source": [
        "Escribir una clase `News` que obtenga los datos de un feed rss visto la clase pasada y guarde las noticias en formato json. \n",
        "\n",
        "La clase debe cumplir lo siguiente:\n",
        "\n",
        "\n",
        "*   Debe detectar noticias duplicadas y unicamente guardar una.\n",
        "*   Cuando se inicializa debe cargar las noticias que ya tiene cargadas.\n",
        "*   Debe calcular las siguientes métricas:\n",
        "    *    Cantidad total de noticias.\n",
        "    *    Cantidad total de noticias por día.\n",
        "    *    Dada una palabra dar la cantidad de noticias que poseen esa palabra. Ejemplo: Cuantas noticias contienen la palabra \"Messi\".\n",
        "*   Debe poseer un método para actualizar y traer las nuevas noticias.\n",
        "*   Debe poseer un método para imprimir todas las noticias.\n",
        "*   Debe poseer un método para imprimir las últimas X noticias.\n",
        "\n"
      ]
    },
    {
      "cell_type": "code",
      "execution_count": null,
      "metadata": {
        "id": "SI5lrA6aDCZ-"
      },
      "outputs": [],
      "source": []
    }
  ],
  "metadata": {
    "colab": {
      "collapsed_sections": [],
      "include_colab_link": true,
      "name": "Clase 7.ipynb",
      "provenance": []
    },
    "interpreter": {
      "hash": "8a94588eda9d64d9e9a351ab8144e55b1fabf5113b54e67dd26a8c27df0381b3"
    },
    "kernelspec": {
      "display_name": "Python 3.10.4 64-bit",
      "language": "python",
      "name": "python3"
    },
    "language_info": {
      "name": "python",
      "version": "3.10.4"
    }
  },
  "nbformat": 4,
  "nbformat_minor": 0
}
